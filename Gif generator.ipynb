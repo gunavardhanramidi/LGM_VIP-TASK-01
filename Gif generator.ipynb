{
 "cells": [
  {
   "cell_type": "code",
   "execution_count": 1,
   "id": "801acb53",
   "metadata": {},
   "outputs": [],
   "source": [
    "# importing ImageSequenceClip from moviepy\n",
    "from moviepy.editor import ImageSequenceClip"
   ]
  },
  {
   "cell_type": "code",
   "execution_count": 2,
   "id": "784d29bd",
   "metadata": {},
   "outputs": [
    {
     "name": "stdout",
     "output_type": "stream",
     "text": [
      "MoviePy - Building file output.gif with imageio.\n"
     ]
    },
    {
     "name": "stderr",
     "output_type": "stream",
     "text": [
      "                                                                                                                       \r"
     ]
    }
   ],
   "source": [
    "images=['frame'+str(i)+\".jpg\" for i in range(1,25)] #Creating a list of images into list\n",
    "clip = ImageSequenceClip(images,fps=3) #Creating video clip from the sequence of images\n",
    "clip.write_gif(\"output.gif\") #saving a video clip as a GIF"
   ]
  },
  {
   "cell_type": "code",
   "execution_count": null,
   "id": "ee57f71d",
   "metadata": {},
   "outputs": [],
   "source": []
  }
 ],
 "metadata": {
  "kernelspec": {
   "display_name": "Python 3 (ipykernel)",
   "language": "python",
   "name": "python3"
  },
  "language_info": {
   "codemirror_mode": {
    "name": "ipython",
    "version": 3
   },
   "file_extension": ".py",
   "mimetype": "text/x-python",
   "name": "python",
   "nbconvert_exporter": "python",
   "pygments_lexer": "ipython3",
   "version": "3.11.5"
  }
 },
 "nbformat": 4,
 "nbformat_minor": 5
}
